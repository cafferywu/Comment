{
 "cells": [
  {
   "cell_type": "code",
   "execution_count": null,
   "metadata": {
    "collapsed": true
   },
   "outputs": [],
   "source": [
    "def srp(srp_val):\n",
    "    good='complete'\n",
    "    bad='failed to complete'\n",
    "    variable=''\n",
    "    if srp_val==True:\n",
    "        variable=good\n",
    "    else:\n",
    "        variable=bad\n",
    "    return ('{} worked very hard and successfully {} the discussion part of the project. Keep working on your final report as well as poster, {}, and please reach out for help when needed.'.format(_name,variable,_name))\n",
    "\n",
    "def participation(par_val):\n",
    "    value=''\n",
    "    if par_val==True:\n",
    "        value=' '\n",
    "        pass\n",
    "    else:\n",
    "        value='Please keep up the intention of speaking up in class and join the conversation. It not only help you to gain a better understanding of the material but your classmates too.'\n",
    "    return value"
   ]
  }
 ],
 "metadata": {
  "kernelspec": {
   "display_name": "Python 3",
   "language": "python",
   "name": "python3"
  },
  "language_info": {
   "codemirror_mode": {
    "name": "ipython",
    "version": 3
   },
   "file_extension": ".py",
   "mimetype": "text/x-python",
   "name": "python",
   "nbconvert_exporter": "python",
   "pygments_lexer": "ipython3",
   "version": "3.6.3"
  }
 },
 "nbformat": 4,
 "nbformat_minor": 2
}
